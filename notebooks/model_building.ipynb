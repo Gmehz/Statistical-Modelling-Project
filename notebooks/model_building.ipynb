{
 "cells": [
  {
   "cell_type": "markdown",
   "metadata": {},
   "source": [
    "Build a regression model."
   ]
  },
  {
   "cell_type": "code",
   "execution_count": 1,
   "metadata": {
    "tags": []
   },
   "outputs": [],
   "source": [
    "import pandas as pd\n",
    "import numpy as np\n",
    "import matplotlib.pyplot as plt\n",
    "import seaborn as sns\n",
    "import plotly.express as plt\n",
    "import statsmodels.api as sm\n"
   ]
  },
  {
   "cell_type": "code",
   "execution_count": 2,
   "metadata": {
    "tags": []
   },
   "outputs": [
    {
     "data": {
      "text/html": [
       "<div>\n",
       "<style scoped>\n",
       "    .dataframe tbody tr th:only-of-type {\n",
       "        vertical-align: middle;\n",
       "    }\n",
       "\n",
       "    .dataframe tbody tr th {\n",
       "        vertical-align: top;\n",
       "    }\n",
       "\n",
       "    .dataframe thead th {\n",
       "        text-align: right;\n",
       "    }\n",
       "</style>\n",
       "<table border=\"1\" class=\"dataframe\">\n",
       "  <thead>\n",
       "    <tr style=\"text-align: right;\">\n",
       "      <th></th>\n",
       "      <th>empty_slots</th>\n",
       "      <th>free_bikes</th>\n",
       "      <th>Latitude</th>\n",
       "      <th>Longitude</th>\n",
       "      <th>Bike_station</th>\n",
       "      <th>Total_bikes</th>\n",
       "      <th>Category</th>\n",
       "      <th>Rating</th>\n",
       "      <th>Restaurant_name</th>\n",
       "      <th>Location</th>\n",
       "      <th>Distance</th>\n",
       "    </tr>\n",
       "  </thead>\n",
       "  <tbody>\n",
       "    <tr>\n",
       "      <th>0</th>\n",
       "      <td>9</td>\n",
       "      <td>7</td>\n",
       "      <td>49.27</td>\n",
       "      <td>-123.12</td>\n",
       "      <td>Yaletown-Roundhouse Station</td>\n",
       "      <td>16</td>\n",
       "      <td>Restaurant</td>\n",
       "      <td>-1.0</td>\n",
       "      <td>Ganache Patisserie</td>\n",
       "      <td>1262 Homer St</td>\n",
       "      <td>674.00</td>\n",
       "    </tr>\n",
       "    <tr>\n",
       "      <th>1</th>\n",
       "      <td>9</td>\n",
       "      <td>7</td>\n",
       "      <td>49.27</td>\n",
       "      <td>-123.12</td>\n",
       "      <td>Yaletown-Roundhouse Station</td>\n",
       "      <td>16</td>\n",
       "      <td>Breakfast &amp; Brunch</td>\n",
       "      <td>4.5</td>\n",
       "      <td>OEB Breakfast Co. Yaletown</td>\n",
       "      <td>1137 Marinaside Crescent</td>\n",
       "      <td>1956.67</td>\n",
       "    </tr>\n",
       "    <tr>\n",
       "      <th>2</th>\n",
       "      <td>4</td>\n",
       "      <td>10</td>\n",
       "      <td>49.27</td>\n",
       "      <td>-123.12</td>\n",
       "      <td>Spyglass &amp; Seawall</td>\n",
       "      <td>14</td>\n",
       "      <td>Restaurant</td>\n",
       "      <td>-1.0</td>\n",
       "      <td>Ganache Patisserie</td>\n",
       "      <td>1262 Homer St</td>\n",
       "      <td>674.00</td>\n",
       "    </tr>\n",
       "    <tr>\n",
       "      <th>3</th>\n",
       "      <td>4</td>\n",
       "      <td>10</td>\n",
       "      <td>49.27</td>\n",
       "      <td>-123.12</td>\n",
       "      <td>Spyglass &amp; Seawall</td>\n",
       "      <td>14</td>\n",
       "      <td>Breakfast &amp; Brunch</td>\n",
       "      <td>4.5</td>\n",
       "      <td>OEB Breakfast Co. Yaletown</td>\n",
       "      <td>1137 Marinaside Crescent</td>\n",
       "      <td>1956.67</td>\n",
       "    </tr>\n",
       "    <tr>\n",
       "      <th>4</th>\n",
       "      <td>6</td>\n",
       "      <td>8</td>\n",
       "      <td>49.27</td>\n",
       "      <td>-123.12</td>\n",
       "      <td>Stamps Landing</td>\n",
       "      <td>14</td>\n",
       "      <td>Restaurant</td>\n",
       "      <td>-1.0</td>\n",
       "      <td>Ganache Patisserie</td>\n",
       "      <td>1262 Homer St</td>\n",
       "      <td>674.00</td>\n",
       "    </tr>\n",
       "    <tr>\n",
       "      <th>...</th>\n",
       "      <td>...</td>\n",
       "      <td>...</td>\n",
       "      <td>...</td>\n",
       "      <td>...</td>\n",
       "      <td>...</td>\n",
       "      <td>...</td>\n",
       "      <td>...</td>\n",
       "      <td>...</td>\n",
       "      <td>...</td>\n",
       "      <td>...</td>\n",
       "      <td>...</td>\n",
       "    </tr>\n",
       "    <tr>\n",
       "      <th>527</th>\n",
       "      <td>12</td>\n",
       "      <td>3</td>\n",
       "      <td>49.25</td>\n",
       "      <td>-123.10</td>\n",
       "      <td>18th &amp; Main</td>\n",
       "      <td>15</td>\n",
       "      <td>Tapas/Small Plates, Wine Bars, Cocktail Bars</td>\n",
       "      <td>4.5</td>\n",
       "      <td>Published On Main</td>\n",
       "      <td>3593 Main Street</td>\n",
       "      <td>1681.55</td>\n",
       "    </tr>\n",
       "    <tr>\n",
       "      <th>528</th>\n",
       "      <td>16</td>\n",
       "      <td>0</td>\n",
       "      <td>49.25</td>\n",
       "      <td>-123.10</td>\n",
       "      <td>20th &amp; Main</td>\n",
       "      <td>16</td>\n",
       "      <td>Tapas/Small Plates, Wine Bars, Cocktail Bars</td>\n",
       "      <td>4.5</td>\n",
       "      <td>Published On Main</td>\n",
       "      <td>3593 Main Street</td>\n",
       "      <td>1681.55</td>\n",
       "    </tr>\n",
       "    <tr>\n",
       "      <th>529</th>\n",
       "      <td>7</td>\n",
       "      <td>5</td>\n",
       "      <td>49.25</td>\n",
       "      <td>-123.10</td>\n",
       "      <td>Ontario &amp; 23rd</td>\n",
       "      <td>12</td>\n",
       "      <td>Tapas/Small Plates, Wine Bars, Cocktail Bars</td>\n",
       "      <td>4.5</td>\n",
       "      <td>Published On Main</td>\n",
       "      <td>3593 Main Street</td>\n",
       "      <td>1681.55</td>\n",
       "    </tr>\n",
       "    <tr>\n",
       "      <th>530</th>\n",
       "      <td>17</td>\n",
       "      <td>5</td>\n",
       "      <td>49.25</td>\n",
       "      <td>-123.10</td>\n",
       "      <td>27th &amp; Main</td>\n",
       "      <td>22</td>\n",
       "      <td>Tapas/Small Plates, Wine Bars, Cocktail Bars</td>\n",
       "      <td>4.5</td>\n",
       "      <td>Published On Main</td>\n",
       "      <td>3593 Main Street</td>\n",
       "      <td>1681.55</td>\n",
       "    </tr>\n",
       "    <tr>\n",
       "      <th>531</th>\n",
       "      <td>13</td>\n",
       "      <td>0</td>\n",
       "      <td>49.25</td>\n",
       "      <td>-123.10</td>\n",
       "      <td>22nd &amp; Main</td>\n",
       "      <td>13</td>\n",
       "      <td>Tapas/Small Plates, Wine Bars, Cocktail Bars</td>\n",
       "      <td>4.5</td>\n",
       "      <td>Published On Main</td>\n",
       "      <td>3593 Main Street</td>\n",
       "      <td>1681.55</td>\n",
       "    </tr>\n",
       "  </tbody>\n",
       "</table>\n",
       "<p>532 rows × 11 columns</p>\n",
       "</div>"
      ],
      "text/plain": [
       "     empty_slots  free_bikes  Latitude  Longitude  \\\n",
       "0              9           7     49.27    -123.12   \n",
       "1              9           7     49.27    -123.12   \n",
       "2              4          10     49.27    -123.12   \n",
       "3              4          10     49.27    -123.12   \n",
       "4              6           8     49.27    -123.12   \n",
       "..           ...         ...       ...        ...   \n",
       "527           12           3     49.25    -123.10   \n",
       "528           16           0     49.25    -123.10   \n",
       "529            7           5     49.25    -123.10   \n",
       "530           17           5     49.25    -123.10   \n",
       "531           13           0     49.25    -123.10   \n",
       "\n",
       "                    Bike_station  Total_bikes  \\\n",
       "0    Yaletown-Roundhouse Station           16   \n",
       "1    Yaletown-Roundhouse Station           16   \n",
       "2             Spyglass & Seawall           14   \n",
       "3             Spyglass & Seawall           14   \n",
       "4                 Stamps Landing           14   \n",
       "..                           ...          ...   \n",
       "527                  18th & Main           15   \n",
       "528                  20th & Main           16   \n",
       "529               Ontario & 23rd           12   \n",
       "530                  27th & Main           22   \n",
       "531                  22nd & Main           13   \n",
       "\n",
       "                                         Category  Rating  \\\n",
       "0                                      Restaurant    -1.0   \n",
       "1                              Breakfast & Brunch     4.5   \n",
       "2                                      Restaurant    -1.0   \n",
       "3                              Breakfast & Brunch     4.5   \n",
       "4                                      Restaurant    -1.0   \n",
       "..                                            ...     ...   \n",
       "527  Tapas/Small Plates, Wine Bars, Cocktail Bars     4.5   \n",
       "528  Tapas/Small Plates, Wine Bars, Cocktail Bars     4.5   \n",
       "529  Tapas/Small Plates, Wine Bars, Cocktail Bars     4.5   \n",
       "530  Tapas/Small Plates, Wine Bars, Cocktail Bars     4.5   \n",
       "531  Tapas/Small Plates, Wine Bars, Cocktail Bars     4.5   \n",
       "\n",
       "                 Restaurant_name                   Location  Distance  \n",
       "0            Ganache Patisserie              1262 Homer St     674.00  \n",
       "1     OEB Breakfast Co. Yaletown   1137 Marinaside Crescent   1956.67  \n",
       "2            Ganache Patisserie              1262 Homer St     674.00  \n",
       "3     OEB Breakfast Co. Yaletown   1137 Marinaside Crescent   1956.67  \n",
       "4            Ganache Patisserie              1262 Homer St     674.00  \n",
       "..                           ...                        ...       ...  \n",
       "527            Published On Main           3593 Main Street   1681.55  \n",
       "528            Published On Main           3593 Main Street   1681.55  \n",
       "529            Published On Main           3593 Main Street   1681.55  \n",
       "530            Published On Main           3593 Main Street   1681.55  \n",
       "531            Published On Main           3593 Main Street   1681.55  \n",
       "\n",
       "[532 rows x 11 columns]"
      ]
     },
     "execution_count": 2,
     "metadata": {},
     "output_type": "execute_result"
    }
   ],
   "source": [
    "df = pd.read_csv('final_merge.csv')\n",
    "df"
   ]
  },
  {
   "cell_type": "code",
   "execution_count": 3,
   "metadata": {
    "tags": []
   },
   "outputs": [
    {
     "data": {
      "text/plain": [
       "Index(['empty_slots', 'free_bikes', 'Latitude', 'Longitude', 'Bike_station',\n",
       "       'Total_bikes', 'Category', 'Rating', 'Restaurant_name', 'Location',\n",
       "       'Distance'],\n",
       "      dtype='object')"
      ]
     },
     "execution_count": 3,
     "metadata": {},
     "output_type": "execute_result"
    }
   ],
   "source": [
    "df.keys()"
   ]
  },
  {
   "cell_type": "markdown",
   "metadata": {},
   "source": [
    "After trying with different variables I have the best fit for the following model using empty_slots as dependent variable and Latitude, Longitude, Rating, Distance and free_bikes as independent variables"
   ]
  },
  {
   "cell_type": "code",
   "execution_count": 7,
   "metadata": {
    "tags": []
   },
   "outputs": [],
   "source": [
    "# Convert object columns to numeric or categorical data types\n",
    "df['Rating'] = pd.to_numeric(df['Rating'], errors='coerce')\n",
    "df['Category'] = df['Category'].astype('category')\n",
    "\n",
    "# Prepare the data for regression\n",
    "X = df[['Latitude', 'Longitude', 'Rating', 'Distance','free_bikes']]  # Independent variables\n",
    "y = df['empty_slots']  # Dependent variable\n",
    "\n",
    "# Add a constant term to the independent variables\n",
    "X = sm.add_constant(X)\n",
    "\n",
    "# Build the regression model\n",
    "model = sm.OLS(y, X)\n",
    "\n",
    "# Fit the regression model\n",
    "results = model.fit()"
   ]
  },
  {
   "cell_type": "markdown",
   "metadata": {},
   "source": [
    "Provide model output and an interpretation of the results. "
   ]
  },
  {
   "cell_type": "code",
   "execution_count": 8,
   "metadata": {
    "tags": []
   },
   "outputs": [
    {
     "name": "stdout",
     "output_type": "stream",
     "text": [
      "                            OLS Regression Results                            \n",
      "==============================================================================\n",
      "Dep. Variable:            empty_slots   R-squared:                       0.416\n",
      "Model:                            OLS   Adj. R-squared:                  0.410\n",
      "Method:                 Least Squares   F-statistic:                     74.95\n",
      "Date:                Tue, 04 Jul 2023   Prob (F-statistic):           3.17e-59\n",
      "Time:                        10:16:42   Log-Likelihood:                -1544.4\n",
      "No. Observations:                 532   AIC:                             3101.\n",
      "Df Residuals:                     526   BIC:                             3126.\n",
      "Df Model:                           5                                         \n",
      "Covariance Type:            nonrobust                                         \n",
      "==============================================================================\n",
      "                 coef    std err          t      P>|t|      [0.025      0.975]\n",
      "------------------------------------------------------------------------------\n",
      "const      -3874.8198   2994.216     -1.294      0.196   -9756.910    2007.271\n",
      "Latitude      53.1864     34.431      1.545      0.123     -14.454     120.827\n",
      "Longitude    -10.3257     19.782     -0.522      0.602     -49.187      28.536\n",
      "Rating         0.5460      0.226      2.416      0.016       0.102       0.990\n",
      "Distance      -0.0013      0.001     -2.623      0.009      -0.002      -0.000\n",
      "free_bikes    -0.5865      0.032    -18.446      0.000      -0.649      -0.524\n",
      "==============================================================================\n",
      "Omnibus:                       69.123   Durbin-Watson:                   0.402\n",
      "Prob(Omnibus):                  0.000   Jarque-Bera (JB):               95.899\n",
      "Skew:                           0.924   Prob(JB):                     1.50e-21\n",
      "Kurtosis:                       3.954   Cond. No.                     2.69e+07\n",
      "==============================================================================\n",
      "\n",
      "Notes:\n",
      "[1] Standard Errors assume that the covariance matrix of the errors is correctly specified.\n",
      "[2] The condition number is large, 2.69e+07. This might indicate that there are\n",
      "strong multicollinearity or other numerical problems.\n"
     ]
    }
   ],
   "source": [
    "print(results.summary())"
   ]
  },
  {
   "cell_type": "markdown",
   "metadata": {},
   "source": [
    "1. R-squared: The coefficient of determination (R-squared) is a measure of how well the regression model fits the data. In this case, the R-squared value is 0.416, which means that approximately 41.6% of the variation in the dependent variable (empty_slots) can be explained by the independent variables included in the model.\n",
    "2. F-statistic: The F-statistic tests the overall significance of the regression model. A larger F-statistic indicates a stronger relationship between the independent variables and the dependent variable. Here, the F-statistic is 74.95, and the associated probability (Prob (F-statistic)) is very small (3.17e-59), indicating that the model is statistically significant.\n",
    "3. free_bikes has a coefficient of -0.5865, indicating that a one-unit increase in free_bikes is associated with a decrease in empty_slots by 0.5865, assuming other variables remain constant. The p-value (P>|t| = 0.000) suggests that this coefficient is statistically significant.\n",
    "\n",
    "\n",
    "\n",
    "\n"
   ]
  },
  {
   "cell_type": "markdown",
   "metadata": {},
   "source": [
    "# Stretch"
   ]
  },
  {
   "cell_type": "markdown",
   "metadata": {},
   "source": [
    "How can you turn the regression model into a classification model?"
   ]
  },
  {
   "cell_type": "markdown",
   "metadata": {},
   "source": [
    "1. Train the Regression Model\n",
    "   - Using the appropriate algorithm, train the regression model.\n",
    "   - This involves letting the model learn the relationships between the independent and dependent variables by fitting it to the data.\n",
    "2. Determine Projected Probabilities or Values\n",
    "   - After the regression model has been trained, retrieve projected probabilities or values for each data point.\n",
    "   - These anticipated values represent the model's estimation of the result variable based on the supplied inputs."
   ]
  }
 ],
 "metadata": {
  "kernelspec": {
   "display_name": "Python 3 (ipykernel)",
   "language": "python",
   "name": "python3"
  },
  "language_info": {
   "codemirror_mode": {
    "name": "ipython",
    "version": 3
   },
   "file_extension": ".py",
   "mimetype": "text/x-python",
   "name": "python",
   "nbconvert_exporter": "python",
   "pygments_lexer": "ipython3",
   "version": "3.10.9"
  }
 },
 "nbformat": 4,
 "nbformat_minor": 4
}
